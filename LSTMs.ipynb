{
 "cells": [
  {
   "cell_type": "markdown",
   "metadata": {},
   "source": [
    "Adapted from: \n",
    "    \n",
    "- https://machinelearningmastery.com/multi-step-time-series-forecasting-long-short-term-memory-networks-python/\n",
    "\n",
    "- https://github.com/spdin/time-series-prediction-lstm-pytorch/blob/master/Time_Series_Prediction_with_LSTM_Using_PyTorch.ipynb\n",
    "\n",
    "and my colleague Scott Pitz from Insight: \n",
    "- https://github.com/slpitz/RNNandGHGs/blob/master/RNN_MaunaLoa_data.ipynb\n"
   ]
  },
  {
   "cell_type": "code",
   "execution_count": 345,
   "metadata": {},
   "outputs": [],
   "source": [
    "import numpy as np\n",
    "import matplotlib.pyplot as plt\n",
    "import seaborn as sns\n",
    "import pandas as pd\n",
    "import torch\n",
    "import torch.nn as nn\n",
    "from torch.autograd import Variable\n",
    "from sklearn.preprocessing import MinMaxScaler\n"
   ]
  },
  {
   "cell_type": "code",
   "execution_count": 346,
   "metadata": {},
   "outputs": [
    {
     "data": {
      "text/html": [
       "<div>\n",
       "<style scoped>\n",
       "    .dataframe tbody tr th:only-of-type {\n",
       "        vertical-align: middle;\n",
       "    }\n",
       "\n",
       "    .dataframe tbody tr th {\n",
       "        vertical-align: top;\n",
       "    }\n",
       "\n",
       "    .dataframe thead th {\n",
       "        text-align: right;\n",
       "    }\n",
       "</style>\n",
       "<table border=\"1\" class=\"dataframe\">\n",
       "  <thead>\n",
       "    <tr style=\"text-align: right;\">\n",
       "      <th></th>\n",
       "      <th>site_code</th>\n",
       "      <th>year</th>\n",
       "      <th>month</th>\n",
       "      <th>day</th>\n",
       "      <th>hour</th>\n",
       "      <th>minute</th>\n",
       "      <th>second</th>\n",
       "      <th>time_decimal</th>\n",
       "      <th>value</th>\n",
       "      <th>value_std_dev</th>\n",
       "      <th>nvalue</th>\n",
       "      <th>latitude</th>\n",
       "      <th>longitude</th>\n",
       "      <th>altitude</th>\n",
       "      <th>elevation</th>\n",
       "      <th>intake_height</th>\n",
       "      <th>qcflag</th>\n",
       "    </tr>\n",
       "  </thead>\n",
       "  <tbody>\n",
       "    <tr>\n",
       "      <th>16</th>\n",
       "      <td>MLO</td>\n",
       "      <td>1974</td>\n",
       "      <td>5</td>\n",
       "      <td>1</td>\n",
       "      <td>0</td>\n",
       "      <td>0</td>\n",
       "      <td>0</td>\n",
       "      <td>1974.328767</td>\n",
       "      <td>333.16</td>\n",
       "      <td>0.34</td>\n",
       "      <td>14</td>\n",
       "      <td>19.536</td>\n",
       "      <td>-155.576</td>\n",
       "      <td>3437.0</td>\n",
       "      <td>3397.0</td>\n",
       "      <td>40.0</td>\n",
       "      <td>...</td>\n",
       "    </tr>\n",
       "    <tr>\n",
       "      <th>17</th>\n",
       "      <td>MLO</td>\n",
       "      <td>1974</td>\n",
       "      <td>6</td>\n",
       "      <td>1</td>\n",
       "      <td>0</td>\n",
       "      <td>0</td>\n",
       "      <td>0</td>\n",
       "      <td>1974.413699</td>\n",
       "      <td>332.11</td>\n",
       "      <td>0.46</td>\n",
       "      <td>26</td>\n",
       "      <td>19.536</td>\n",
       "      <td>-155.576</td>\n",
       "      <td>3437.0</td>\n",
       "      <td>3397.0</td>\n",
       "      <td>40.0</td>\n",
       "      <td>...</td>\n",
       "    </tr>\n",
       "    <tr>\n",
       "      <th>18</th>\n",
       "      <td>MLO</td>\n",
       "      <td>1974</td>\n",
       "      <td>7</td>\n",
       "      <td>1</td>\n",
       "      <td>0</td>\n",
       "      <td>0</td>\n",
       "      <td>0</td>\n",
       "      <td>1974.495890</td>\n",
       "      <td>331.11</td>\n",
       "      <td>0.49</td>\n",
       "      <td>24</td>\n",
       "      <td>19.536</td>\n",
       "      <td>-155.576</td>\n",
       "      <td>3437.0</td>\n",
       "      <td>3397.0</td>\n",
       "      <td>40.0</td>\n",
       "      <td>...</td>\n",
       "    </tr>\n",
       "    <tr>\n",
       "      <th>19</th>\n",
       "      <td>MLO</td>\n",
       "      <td>1974</td>\n",
       "      <td>8</td>\n",
       "      <td>1</td>\n",
       "      <td>0</td>\n",
       "      <td>0</td>\n",
       "      <td>0</td>\n",
       "      <td>1974.580822</td>\n",
       "      <td>329.09</td>\n",
       "      <td>0.64</td>\n",
       "      <td>27</td>\n",
       "      <td>19.536</td>\n",
       "      <td>-155.576</td>\n",
       "      <td>3437.0</td>\n",
       "      <td>3397.0</td>\n",
       "      <td>40.0</td>\n",
       "      <td>...</td>\n",
       "    </tr>\n",
       "    <tr>\n",
       "      <th>20</th>\n",
       "      <td>MLO</td>\n",
       "      <td>1974</td>\n",
       "      <td>9</td>\n",
       "      <td>1</td>\n",
       "      <td>0</td>\n",
       "      <td>0</td>\n",
       "      <td>0</td>\n",
       "      <td>1974.665753</td>\n",
       "      <td>327.27</td>\n",
       "      <td>0.63</td>\n",
       "      <td>24</td>\n",
       "      <td>19.536</td>\n",
       "      <td>-155.576</td>\n",
       "      <td>3437.0</td>\n",
       "      <td>3397.0</td>\n",
       "      <td>40.0</td>\n",
       "      <td>...</td>\n",
       "    </tr>\n",
       "  </tbody>\n",
       "</table>\n",
       "</div>"
      ],
      "text/plain": [
       "   site_code  year  month  day  hour  minute  second  time_decimal   value  \\\n",
       "16       MLO  1974      5    1     0       0       0   1974.328767  333.16   \n",
       "17       MLO  1974      6    1     0       0       0   1974.413699  332.11   \n",
       "18       MLO  1974      7    1     0       0       0   1974.495890  331.11   \n",
       "19       MLO  1974      8    1     0       0       0   1974.580822  329.09   \n",
       "20       MLO  1974      9    1     0       0       0   1974.665753  327.27   \n",
       "\n",
       "    value_std_dev  nvalue  latitude  longitude  altitude  elevation  \\\n",
       "16           0.34      14    19.536   -155.576    3437.0     3397.0   \n",
       "17           0.46      26    19.536   -155.576    3437.0     3397.0   \n",
       "18           0.49      24    19.536   -155.576    3437.0     3397.0   \n",
       "19           0.64      27    19.536   -155.576    3437.0     3397.0   \n",
       "20           0.63      24    19.536   -155.576    3437.0     3397.0   \n",
       "\n",
       "    intake_height qcflag  \n",
       "16           40.0    ...  \n",
       "17           40.0    ...  \n",
       "18           40.0    ...  \n",
       "19           40.0    ...  \n",
       "20           40.0    ...  "
      ]
     },
     "execution_count": 346,
     "metadata": {},
     "output_type": "execute_result"
    }
   ],
   "source": [
    "#myfile = 'ftp://aftp.cmdl.noaa.gov/data/trace_gases/co2/flask/surface/co2_mlo_surface-flask_1_ccgg_month.txt'\n",
    "# myfile2019 = 'ftp://aftp.cmdl.noaa.gov/data/trace_gases/co2/in-situ/surface/mlo/co2_mlo_surface-insitu_1_ccgg_MonthlyData.txt'\n",
    "\n",
    "myfile2019 = 'co2_mlo_surface-insitu_1_ccgg_MonthlyData.txt'\n",
    "# making data frame   \n",
    "#df = pd.read_csv(myfile,sep='\\t',skiprows=(0,1,2),header=(70))\n",
    "#df = pd.read_csv(myfile,sep='\\r',header=(69), delim_whitespace=True)\n",
    "#df = pd.read_csv(myfile2019, header= (150), delim_whitespace=True)\n",
    "df = pd.read_csv(myfile2019, header= (149), delim_whitespace=True)\n",
    "    \n",
    "# \"uncertain\" values in MLO are filled in with \"-999\" \n",
    "df = df[df['value']>-100]    \n",
    "    \n",
    "df.head()\n"
   ]
  },
  {
   "cell_type": "code",
   "execution_count": 347,
   "metadata": {},
   "outputs": [],
   "source": [
    "\n",
    "# df = pd.read_csv('co2_mlo_surface-flask_1_ccgg_event.txt', skiprows=69,  delim_whitespace=True)\n",
    "# print(df.info())\n",
    "# df.head()\n"
   ]
  },
  {
   "cell_type": "code",
   "execution_count": 348,
   "metadata": {},
   "outputs": [
    {
     "data": {
      "image/png": "[encoded data removed]",
      "text/plain": [
       "<Figure size 432x288 with 2 Axes>"
      ]
     },
     "metadata": {
      "needs_background": "light"
     },
     "output_type": "display_data"
    }
   ],
   "source": [
    "# training_set = pd.read_csv('airline-passengers.csv')\n",
    "# #training_set = pd.read_csv('shampoo.csv')\n",
    "\n",
    "# training_set = training_set.iloc[:,1:2].values\n",
    "\n",
    "# plt.plot(training_set, label = 'Shampoo Sales Data')\n",
    "# plt.show()\n",
    "\n",
    "\n",
    "plt.subplot(211)\n",
    "plt.plot(df['time_decimal'], df['value'])\n",
    "plt.title('CO$_2$')\n",
    "\n",
    "plt.subplot(212)\n",
    "plt.plot(df['time_decimal'], df['value_std_dev'])\n",
    "plt.title('Uncertainty')\n",
    "plt.tight_layout()\n"
   ]
  },
  {
   "cell_type": "code",
   "execution_count": 349,
   "metadata": {},
   "outputs": [],
   "source": [
    "\n",
    "distance = df['time_decimal'].diff()"
   ]
  },
  {
   "cell_type": "code",
   "execution_count": 350,
   "metadata": {},
   "outputs": [
    {
     "data": {
      "text/plain": [
       "<matplotlib.axes._subplots.AxesSubplot at 0x7fe18d21be80>"
      ]
     },
     "execution_count": 350,
     "metadata": {},
     "output_type": "execute_result"
    },
    {
     "data": {
      "image/png": "[encoded data removed]",
      "text/plain": [
       "<Figure size 432x288 with 1 Axes>"
      ]
     },
     "metadata": {
      "needs_background": "light"
     },
     "output_type": "display_data"
    }
   ],
   "source": [
    "sns.distplot(distance)\n"
   ]
  },
  {
   "cell_type": "code",
   "execution_count": 351,
   "metadata": {},
   "outputs": [
    {
     "data": {
      "image/png": "[encoded data removed]",
      "text/plain": [
       "<Figure size 432x288 with 2 Axes>"
      ]
     },
     "metadata": {
      "needs_background": "light"
     },
     "output_type": "display_data"
    }
   ],
   "source": [
    "plt.subplot(211)\n",
    "plt.plot(df['time_decimal'], df['value'])\n",
    "plt.title('Original CO$_2$')\n",
    "\n",
    "scaler = MinMaxScaler(feature_range=(-1, 1))\n",
    "scaled_data = scaler.fit_transform(df['value'].values.reshape(-1, 1))\n",
    "\n",
    "plt.subplot(212)\n",
    "plt.plot(df['time_decimal'], scaled_data)\n",
    "plt.title('Scaled CO$_2$')\n",
    "\n",
    "plt.tight_layout()\n"
   ]
  },
  {
   "cell_type": "code",
   "execution_count": 352,
   "metadata": {},
   "outputs": [],
   "source": [
    "def sliding_windows(data, seq_length):\n",
    "    x = []\n",
    "    y = []\n",
    "    n_elems = len(data)\n",
    "\n",
    "    # Train on n=seq_length data points, predict the seq_length+1 data point\n",
    "    for i in range(n_elems-seq_length-1):\n",
    "        x.append(data[i:(i+seq_length)])\n",
    "        y.append(data[i+seq_length])\n",
    "\n",
    "    return np.array(x),np.array(y)\n",
    "\n",
    "training_data = df['value'].values\n",
    "\n",
    "seq_length = 6  #This variable is used later in LSTM\n",
    "\n",
    "x, y = sliding_windows(scaled_data, seq_length)"
   ]
  },
  {
   "cell_type": "code",
   "execution_count": 353,
   "metadata": {},
   "outputs": [],
   "source": [
    "n_elems = len(x)\n",
    "\n",
    "train_set_size = int(n_elems * 0.8)"
   ]
  },
  {
   "cell_type": "code",
   "execution_count": 354,
   "metadata": {},
   "outputs": [
    {
     "data": {
      "text/plain": [
       "432"
      ]
     },
     "execution_count": 354,
     "metadata": {},
     "output_type": "execute_result"
    }
   ],
   "source": [
    "train_set_size"
   ]
  },
  {
   "cell_type": "code",
   "execution_count": 355,
   "metadata": {},
   "outputs": [],
   "source": [
    "X_train = Variable(torch.tensor(np.array(x[0:train_set_size])))#.double()\n",
    "y_train = Variable(torch.tensor(np.array(y[0:train_set_size])))#.double()\n",
    "\n",
    "X_test = Variable(torch.tensor(np.array(x[train_set_size:])))#.double()\n",
    "y_test = Variable(torch.tensor(np.array(y[train_set_size:])))#.double()"
   ]
  },
  {
   "cell_type": "code",
   "execution_count": 356,
   "metadata": {},
   "outputs": [],
   "source": [
    "X_train = X_train.reshape(X_train.shape[0], X_train.shape[1], 1)\n",
    "X_test = X_test.reshape(X_test.shape[0], X_test.shape[1], 1)\n",
    "\n",
    "y_train = y_train.reshape(y_train.shape[0],1)\n",
    "y_test = y_test.reshape(y_test.shape[0],1)"
   ]
  },
  {
   "cell_type": "code",
   "execution_count": 357,
   "metadata": {},
   "outputs": [
    {
     "data": {
      "text/plain": [
       "torch.float64"
      ]
     },
     "execution_count": 357,
     "metadata": {},
     "output_type": "execute_result"
    }
   ],
   "source": [
    "X_train.dtype"
   ]
  },
  {
   "cell_type": "code",
   "execution_count": 358,
   "metadata": {},
   "outputs": [],
   "source": [
    "class LSTM(nn.Module):\n",
    "\n",
    "    def __init__(self, num_classes, input_size, hidden_size, num_layers):\n",
    "        super(LSTM, self).__init__()\n",
    "        \n",
    "        self.num_classes = num_classes\n",
    "        self.num_layers = num_layers\n",
    "        self.input_size = input_size\n",
    "        self.hidden_size = hidden_size\n",
    "        self.seq_length = seq_length\n",
    "        \n",
    "        self.lstm = nn.LSTM(input_size=input_size, hidden_size=hidden_size,\n",
    "                            num_layers=num_layers, batch_first=True)\n",
    "        \n",
    "        self.fc = nn.Linear(hidden_size, num_classes)\n",
    "\n",
    "    def forward(self, x):\n",
    "        h_0 = Variable(torch.zeros(\n",
    "            self.num_layers, x.size(0), self.hidden_size))\n",
    "        \n",
    "        c_0 = Variable(torch.zeros(\n",
    "            self.num_layers, x.size(0), self.hidden_size))\n",
    "        \n",
    "        # Propagate input through LSTM\n",
    "        ula, (h_out, _) = self.lstm(x, (h_0, c_0))\n",
    "        \n",
    "        h_out = h_out.view(-1, self.hidden_size)\n",
    "        \n",
    "        out = self.fc(h_out)\n",
    "        \n",
    "        return out\n"
   ]
  },
  {
   "cell_type": "code",
   "execution_count": 359,
   "metadata": {},
   "outputs": [
    {
     "name": "stdout",
     "output_type": "stream",
     "text": [
      "Epoch: 0, loss: 0.21598\n",
      "Epoch: 100, loss: 0.17941\n",
      "Epoch: 200, loss: 0.14602\n",
      "Epoch: 300, loss: 0.11161\n",
      "Epoch: 400, loss: 0.07996\n",
      "Epoch: 500, loss: 0.04703\n",
      "Epoch: 600, loss: 0.02129\n",
      "Epoch: 700, loss: 0.01063\n",
      "Epoch: 800, loss: 0.00807\n",
      "Epoch: 900, loss: 0.00701\n",
      "Epoch: 1000, loss: 0.00628\n",
      "Epoch: 1100, loss: 0.00578\n",
      "Epoch: 1200, loss: 0.00544\n",
      "Epoch: 1300, loss: 0.00523\n",
      "Epoch: 1400, loss: 0.00509\n",
      "Epoch: 1500, loss: 0.00501\n",
      "Epoch: 1600, loss: 0.00494\n",
      "Epoch: 1700, loss: 0.00489\n",
      "Epoch: 1800, loss: 0.00484\n",
      "Epoch: 1900, loss: 0.00480\n"
     ]
    }
   ],
   "source": [
    "num_epochs = 2000\n",
    "learning_rate = 0.0001\n",
    "\n",
    "input_size = 1\n",
    "hidden_size = 24\n",
    "num_layers = 1\n",
    "\n",
    "num_classes = 1\n",
    "history = []\n",
    "\n",
    "lstm = LSTM(num_classes, input_size, hidden_size, num_layers)\n",
    "\n",
    "criterion = torch.nn.MSELoss()    # mean-squared error for regression\n",
    "optimizer = torch.optim.Adam(lstm.parameters(), lr=learning_rate)\n",
    "\n",
    "# Train the model\n",
    "for epoch in range(num_epochs):\n",
    "    outputs = lstm(X_train.float())\n",
    "    optimizer.zero_grad()\n",
    "    \n",
    "    # obtain the loss function\n",
    "    loss = criterion(outputs, y_train.float())\n",
    "    \n",
    "    loss.backward()\n",
    "    \n",
    "    optimizer.step()\n",
    "    if epoch % 100 == 0:\n",
    "        history.append([epoch, loss.item()])\n",
    "        print(\"Epoch: %d, loss: %1.5f\" % (epoch, loss.item()))\n"
   ]
  },
  {
   "cell_type": "code",
   "execution_count": 360,
   "metadata": {},
   "outputs": [
    {
     "data": {
      "text/plain": [
       "Text(0, 0.5, 'loss function')"
      ]
     },
     "execution_count": 360,
     "metadata": {},
     "output_type": "execute_result"
    },
    {
     "data": {
      "image/png": "[encoded data removed]",
      "text/plain": [
       "<Figure size 432x288 with 1 Axes>"
      ]
     },
     "metadata": {
      "needs_background": "light"
     },
     "output_type": "display_data"
    }
   ],
   "source": [
    "epoch =[z[0] for z in history]\n",
    "loss = [z[1] for z in history]\n",
    "plt.plot(epoch,loss)\n",
    "plt.xlabel('epoch')\n",
    "plt.ylabel('loss function')"
   ]
  },
  {
   "cell_type": "code",
   "execution_count": 361,
   "metadata": {},
   "outputs": [
    {
     "data": {
      "text/plain": [
       "LSTM(\n",
       "  (lstm): LSTM(1, 24, batch_first=True)\n",
       "  (fc): Linear(in_features=24, out_features=1, bias=True)\n",
       ")"
      ]
     },
     "execution_count": 361,
     "metadata": {},
     "output_type": "execute_result"
    }
   ],
   "source": [
    "lstm.eval()\n"
   ]
  },
  {
   "cell_type": "code",
   "execution_count": 362,
   "metadata": {},
   "outputs": [],
   "source": [
    "y_pred = lstm(X_test.float())\n"
   ]
  },
  {
   "cell_type": "code",
   "execution_count": 363,
   "metadata": {},
   "outputs": [],
   "source": [
    "y_pred = scaler.inverse_transform(y_pred.data.numpy())"
   ]
  },
  {
   "cell_type": "code",
   "execution_count": 364,
   "metadata": {},
   "outputs": [
    {
     "data": {
      "text/plain": [
       "[<matplotlib.lines.Line2D at 0x7fe18d4936d8>]"
      ]
     },
     "execution_count": 364,
     "metadata": {},
     "output_type": "execute_result"
    },
    {
     "data": {
      "image/png": "[encoded data removed]",
      "text/plain": [
       "<Figure size 432x288 with 1 Axes>"
      ]
     },
     "metadata": {
      "needs_background": "light"
     },
     "output_type": "display_data"
    }
   ],
   "source": [
    "plt.plot(y_pred)"
   ]
  },
  {
   "cell_type": "code",
   "execution_count": 365,
   "metadata": {},
   "outputs": [
    {
     "data": {
      "text/plain": [
       "<matplotlib.legend.Legend at 0x7fe18abbc550>"
      ]
     },
     "execution_count": 365,
     "metadata": {},
     "output_type": "execute_result"
    },
    {
     "data": {
      "image/png": "[encoded data removed]",
      "text/plain": [
       "<Figure size 432x288 with 1 Axes>"
      ]
     },
     "metadata": {
      "needs_background": "light"
     },
     "output_type": "display_data"
    }
   ],
   "source": [
    "plt.plot(scaler.inverse_transform(scaled_data[train_set_size:]), label='actual')\n",
    "plt.plot(y_pred, label='predicted')\n",
    "plt.legend()"
   ]
  },
  {
   "cell_type": "code",
   "execution_count": null,
   "metadata": {},
   "outputs": [],
   "source": [
    "# lstm.eval()\n",
    "# train_predict = lstm(X_test)\n",
    "\n",
    "# data_predict = train_predict.data.numpy()\n",
    "# dataY_plot = dataY.data.numpy()\n",
    "\n",
    "# data_predict = sc.inverse_transform(data_predict)\n",
    "# dataY_plot = sc.inverse_transform(dataY_plot)\n",
    "\n",
    "# plt.axvline(x=train_size, c='r', linestyle='--')\n",
    "\n",
    "# plt.plot(dataY_plot)\n",
    "# plt.plot(data_predict)\n",
    "# plt.suptitle('Time-Series Prediction')\n",
    "# plt.show()\n"
   ]
  },
  {
   "cell_type": "code",
   "execution_count": null,
   "metadata": {},
   "outputs": [],
   "source": []
  },
  {
   "cell_type": "code",
   "execution_count": null,
   "metadata": {},
   "outputs": [],
   "source": []
  },
  {
   "cell_type": "code",
   "execution_count": 237,
   "metadata": {},
   "outputs": [],
   "source": [
    "# class LSTM(nn.Module):\n",
    "#     def __init__(self, input_size=1, hidden_layer_size=100, output_size=1):\n",
    "#         super().__init__()\n",
    "#         self.hidden_layer_size = hidden_layer_size\n",
    "\n",
    "#         self.lstm = nn.LSTM(input_size, hidden_layer_size)\n",
    "\n",
    "#         self.linear = nn.Linear(hidden_layer_size, output_size)\n",
    "\n",
    "#         self.hidden_cell = (torch.zeros(1,1,self.hidden_layer_size),\n",
    "#                             torch.zeros(1,1,self.hidden_layer_size))\n",
    "\n",
    "#     def forward(self, input_seq):\n",
    "#         lstm_out, self.hidden_cell = self.lstm(input_seq.view(len(input_seq) ,1, -1), self.hidden_cell)\n",
    "#         predictions = self.linear(lstm_out.view(len(input_seq), -1))\n",
    "#         return predictions[-1]\n"
   ]
  },
  {
   "cell_type": "code",
   "execution_count": 238,
   "metadata": {},
   "outputs": [],
   "source": [
    "# model = LSTM()\n",
    "# loss_function = nn.MSELoss()\n",
    "# optimizer = torch.optim.Adam(model.parameters(), lr=0.001)\n"
   ]
  },
  {
   "cell_type": "code",
   "execution_count": 198,
   "metadata": {},
   "outputs": [
    {
     "data": {
      "text/plain": [
       "432"
      ]
     },
     "execution_count": 198,
     "metadata": {},
     "output_type": "execute_result"
    }
   ],
   "source": [
    "X_train.shape[0]"
   ]
  },
  {
   "cell_type": "code",
   "execution_count": 275,
   "metadata": {},
   "outputs": [],
   "source": [
    "# epochs = 150\n",
    "\n",
    "# for i in range(epochs):\n",
    "#     for seq in X_train:\n",
    "#         optimizer.zero_grad()\n",
    "#         model.hidden_cell = (torch.zeros(1, 1, model.hidden_layer_size),\n",
    "#                         torch.zeros(1, 1, model.hidden_layer_size))\n",
    "\n",
    "#         y_pred = model(seq.double())\n",
    "\n",
    "#         single_loss = loss_function(y_pred)\n",
    "#         single_loss.backward()\n",
    "#         optimizer.step()\n",
    "\n",
    "#     if i%25 == 1:\n",
    "#         print(f'epoch: {i:3} loss: {single_loss.item():10.8f}')\n",
    "\n",
    "# print(f'epoch: {i:3} loss: {single_loss.item():10.10f}')\n"
   ]
  },
  {
   "cell_type": "code",
   "execution_count": null,
   "metadata": {},
   "outputs": [],
   "source": []
  },
  {
   "cell_type": "code",
   "execution_count": null,
   "metadata": {},
   "outputs": [],
   "source": []
  },
  {
   "cell_type": "code",
   "execution_count": 240,
   "metadata": {},
   "outputs": [],
   "source": [
    "# class LSTM(nn.Module):\n",
    "\n",
    "#     def __init__(self, num_classes, input_size, hidden_size, num_layers):\n",
    "#         super(LSTM, self).__init__()\n",
    "        \n",
    "#         self.num_classes = num_classes\n",
    "#         self.num_layers = num_layers\n",
    "#         self.input_size = input_size\n",
    "#         self.hidden_size = hidden_size\n",
    "#         self.seq_length = seq_length\n",
    "        \n",
    "#         self.lstm = nn.LSTM(input_size=input_size, hidden_size=hidden_size,\n",
    "#                             num_layers=num_layers, batch_first=True)\n",
    "        \n",
    "#         self.fc = nn.Linear(hidden_size, num_classes)\n",
    "\n",
    "#     def forward(self, x):\n",
    "#         h_0 = Variable(torch.zeros(\n",
    "#             self.num_layers, x.size(0), self.hidden_size))\n",
    "        \n",
    "#         c_0 = Variable(torch.zeros(\n",
    "#             self.num_layers, x.size(0), self.hidden_size))\n",
    "        \n",
    "#         # Propagate input through LSTM\n",
    "#         ula, (h_out, _) = self.lstm(x, (h_0, c_0))\n",
    "        \n",
    "#         h_out = h_out.view(-1, self.hidden_size)\n",
    "        \n",
    "#         out = self.fc(h_out)\n",
    "        \n",
    "#         return out\n"
   ]
  },
  {
   "cell_type": "code",
   "execution_count": 276,
   "metadata": {},
   "outputs": [],
   "source": [
    "# num_epochs = 2000\n",
    "# learning_rate = 0.01\n",
    "\n",
    "# input_size = 1\n",
    "# hidden_size = 2\n",
    "# num_layers = 1\n",
    "\n",
    "# num_classes = 1\n",
    "\n",
    "# lstm = LSTM(num_classes, input_size, hidden_size, num_layers)\n",
    "\n",
    "# criterion = torch.nn.MSELoss()    # mean-squared error for regression\n",
    "# optimizer = torch.optim.Adam(lstm.parameters(), lr=learning_rate)\n",
    "\n",
    "# # Train the model\n",
    "# for epoch in range(num_epochs):\n",
    "#     outputs = lstm(X_train)\n",
    "#     optimizer.zero_grad()\n",
    "    \n",
    "#     # obtain the loss function\n",
    "#     loss = criterion(outputs, Y_train)\n",
    "    \n",
    "#     loss.backward()\n",
    "    \n",
    "#     optimizer.step()\n",
    "#     if epoch % 100 == 0:\n",
    "#       print(\"Epoch: %d, loss: %1.5f\" % (epoch, loss.item()))\n"
   ]
  },
  {
   "cell_type": "code",
   "execution_count": null,
   "metadata": {},
   "outputs": [],
   "source": []
  },
  {
   "cell_type": "code",
   "execution_count": null,
   "metadata": {},
   "outputs": [],
   "source": []
  },
  {
   "cell_type": "code",
   "execution_count": null,
   "metadata": {},
   "outputs": [],
   "source": []
  }
 ],
 "metadata": {
  "kernelspec": {
   "display_name": "Python 3",
   "language": "python",
   "name": "python3"
  },
  "language_info": {
   "codemirror_mode": {
    "name": "ipython",
    "version": 3
   },
   "file_extension": ".py",
   "mimetype": "text/x-python",
   "name": "python",
   "nbconvert_exporter": "python",
   "pygments_lexer": "ipython3",
   "version": "3.6.6"
  }
 },
 "nbformat": 4,
 "nbformat_minor": 4
}
